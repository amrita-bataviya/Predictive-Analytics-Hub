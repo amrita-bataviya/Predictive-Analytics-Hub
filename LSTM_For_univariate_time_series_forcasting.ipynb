{
 "cells": [
  {
   "cell_type": "code",
   "execution_count": 47,
   "id": "84edc8dc",
   "metadata": {},
   "outputs": [],
   "source": [
    "import numpy as np\n",
    "import tensorflow as tf\n",
    "from tensorflow.keras.models import Sequential\n",
    "from tensorflow.keras.layers import LSTM\n",
    "from tensorflow.keras.layers import Flatten\n",
    "from tensorflow.keras.layers import Dense"
   ]
  },
  {
   "cell_type": "code",
   "execution_count": 59,
   "id": "036b9390",
   "metadata": {},
   "outputs": [],
   "source": [
    "def prepare_data(timeseries_data,n_features):\n",
    "    X, y = [], []\n",
    "    for i in range(len(timeseries_data)):\n",
    "        end_i = i + n_features\n",
    "        if end_i > len(timeseries_data)-1:\n",
    "            break\n",
    "        seq_x, seq_y = timeseries_data[i:end_i],timeseries_data[end_i]\n",
    "        X.append(seq_x)\n",
    "        y.append(seq_y)\n",
    "    return np.array(X), np.array(y)\n",
    "        "
   ]
  },
  {
   "cell_type": "code",
   "execution_count": 60,
   "id": "01f25f16",
   "metadata": {},
   "outputs": [
    {
     "name": "stdout",
     "output_type": "stream",
     "text": [
      "[[110 125 133]\n",
      " [125 133 146]\n",
      " [133 146 158]\n",
      " [146 158 172]\n",
      " [158 172 187]\n",
      " [172 187 196]] [146 158 172 187 196 210]\n"
     ]
    }
   ],
   "source": [
    "timeseries_data = [110, 125, 133, 146, 158, 172, 187, 196, 210]\n",
    "n_steps = 3\n",
    "X,y = prepare_data(timeseries_data,n_steps)\n",
    "print(X,y)"
   ]
  },
  {
   "cell_type": "code",
   "execution_count": 61,
   "id": "bf775cb0",
   "metadata": {},
   "outputs": [
    {
     "data": {
      "text/plain": [
       "(6, 3)"
      ]
     },
     "execution_count": 61,
     "metadata": {},
     "output_type": "execute_result"
    }
   ],
   "source": [
    "X.shape"
   ]
  },
  {
   "cell_type": "code",
   "execution_count": 62,
   "id": "cf781845",
   "metadata": {},
   "outputs": [],
   "source": [
    "# Reshape from [sample, timesteps] into [sample, timestep, features]\n",
    "n_feature = 1\n",
    "X = X.reshape(X.shape[0], X.shape[1], n_feature)"
   ]
  },
  {
   "cell_type": "code",
   "execution_count": 63,
   "id": "cf1d7111",
   "metadata": {},
   "outputs": [
    {
     "data": {
      "text/plain": [
       "(6, 3, 1)"
      ]
     },
     "execution_count": 63,
     "metadata": {},
     "output_type": "execute_result"
    }
   ],
   "source": [
    "X.shape"
   ]
  },
  {
   "cell_type": "markdown",
   "id": "0e61f9a4",
   "metadata": {},
   "source": [
    "# Building LSTM model"
   ]
  },
  {
   "cell_type": "code",
   "execution_count": 64,
   "id": "ed5550bd",
   "metadata": {
    "scrolled": true
   },
   "outputs": [
    {
     "data": {
      "text/plain": [
       "<keras.callbacks.History at 0x7f9478149d60>"
      ]
     },
     "execution_count": 64,
     "metadata": {},
     "output_type": "execute_result"
    }
   ],
   "source": [
    "model = Sequential()\n",
    "model.add(LSTM(50, activation='relu', input_shape=(n_steps,n_feature), return_sequences=True))\n",
    "model.add(LSTM(50, activation='relu'))\n",
    "model.add(Dense(1))\n",
    "model.compile(optimizer='adam', loss='mse')\n",
    "model.fit(X,y,epochs=300,verbose=0)"
   ]
  },
  {
   "cell_type": "code",
   "execution_count": 66,
   "id": "af7f2bbe",
   "metadata": {},
   "outputs": [
    {
     "name": "stdout",
     "output_type": "stream",
     "text": [
      "1 day input is [196.         210.         222.85118103]\n",
      "1 day output is [[234.41183]]\n",
      "2 day input is [210.         222.85118103 234.41183472]\n",
      "2 day output is [[248.29294]]\n",
      "3 day input is [222.85118 234.41183 248.29294]\n",
      "3 day output is [[261.92828]]\n",
      "4 day input is [234.41183 248.29294 261.92828]\n",
      "4 day output is [[275.42593]]\n",
      "5 day input is [248.29294 261.92828 275.42593]\n",
      "5 day output is [[290.228]]\n",
      "6 day input is [261.92828 275.42593 290.228  ]\n",
      "6 day output is [[305.24347]]\n",
      "7 day input is [275.42593 290.228   305.24347]\n",
      "7 day output is [[320.569]]\n",
      "8 day input is [290.228   305.24347 320.569  ]\n",
      "8 day output is [[336.80893]]\n",
      "9 day input is [305.24347 320.569   336.80893]\n",
      "9 day output is [[353.50757]]\n",
      "[222.85118, 234.41183, 248.29294, 261.92828, 275.42593, 290.228, 305.24347, 320.569, 336.80893, 353.50757]\n"
     ]
    }
   ],
   "source": [
    "x_input = np.array([187, 196, 210])\n",
    "temp_input = list(x_input)\n",
    "lst_output = []\n",
    "i = 0\n",
    "while i<10:\n",
    "    if (len(temp_input) > 3):\n",
    "        x_input = np.array(temp_input[1:])\n",
    "        print(\"{} day input is {}\".format(i, x_input))\n",
    "        x_input = x_input.reshape((1, n_steps, n_feature))\n",
    "        yhat = model.predict(x_input,verbose=0)\n",
    "        print(\"{} day output is {}\".format(i,yhat))\n",
    "        temp_input.append(yhat[0][0])\n",
    "        temp_input = temp_input[1:]\n",
    "        lst_output.append(yhat[0][0])\n",
    "        i = i+1\n",
    "    else:\n",
    "        x_input = x_input.reshape(1, n_steps, n_feature)\n",
    "        yhat = model.predict(x_input,verbose=0)\n",
    "        temp_input.append(yhat[0][0])\n",
    "        lst_output.append(yhat[0][0])\n",
    "        i = i+1\n",
    "        \n",
    "        \n",
    "        \n",
    "print(lst_output)"
   ]
  },
  {
   "cell_type": "markdown",
   "id": "93ea3310",
   "metadata": {},
   "source": [
    "# Visualizing the output"
   ]
  },
  {
   "cell_type": "code",
   "execution_count": 67,
   "id": "1c508a68",
   "metadata": {},
   "outputs": [],
   "source": [
    "import matplotlib.pyplot as plt"
   ]
  },
  {
   "cell_type": "code",
   "execution_count": 68,
   "id": "72667c9e",
   "metadata": {},
   "outputs": [],
   "source": [
    "day_new = np.arange(1,10)\n",
    "day_pred = np.arange(10,20)\n"
   ]
  },
  {
   "cell_type": "code",
   "execution_count": null,
   "id": "18c90225",
   "metadata": {},
   "outputs": [],
   "source": [
    "plt.po"
   ]
  }
 ],
 "metadata": {
  "kernelspec": {
   "display_name": "Python 3 (ipykernel)",
   "language": "python",
   "name": "python3"
  },
  "language_info": {
   "codemirror_mode": {
    "name": "ipython",
    "version": 3
   },
   "file_extension": ".py",
   "mimetype": "text/x-python",
   "name": "python",
   "nbconvert_exporter": "python",
   "pygments_lexer": "ipython3",
   "version": "3.9.16"
  }
 },
 "nbformat": 4,
 "nbformat_minor": 5
}
