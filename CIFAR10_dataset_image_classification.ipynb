{
 "cells": [
  {
   "cell_type": "code",
   "execution_count": 1,
   "id": "87fc0593",
   "metadata": {},
   "outputs": [],
   "source": [
    "import tensorflow as tf\n",
    "from tensorflow.keras import datasets, layers, models\n",
    "import matplotlib.pyplot as plt\n",
    "import numpy as np"
   ]
  },
  {
   "cell_type": "code",
   "execution_count": 2,
   "id": "8fc46f7f",
   "metadata": {},
   "outputs": [],
   "source": [
    "(X_train,y_train),(X_test,y_test) = datasets.cifar10.load_data()"
   ]
  },
  {
   "cell_type": "code",
   "execution_count": 3,
   "id": "be23a076",
   "metadata": {},
   "outputs": [
    {
     "data": {
      "text/plain": [
       "(50000, 32, 32, 3)"
      ]
     },
     "execution_count": 3,
     "metadata": {},
     "output_type": "execute_result"
    }
   ],
   "source": [
    "X_train.shape"
   ]
  },
  {
   "cell_type": "code",
   "execution_count": 4,
   "id": "28b3d13c",
   "metadata": {},
   "outputs": [
    {
     "data": {
      "text/plain": [
       "(50000, 1)"
      ]
     },
     "execution_count": 4,
     "metadata": {},
     "output_type": "execute_result"
    }
   ],
   "source": [
    "y_train.shape"
   ]
  },
  {
   "cell_type": "code",
   "execution_count": 11,
   "id": "69688018",
   "metadata": {},
   "outputs": [
    {
     "data": {
      "text/plain": [
       "array([[6],\n",
       "       [9],\n",
       "       [9],\n",
       "       [4],\n",
       "       [1]], dtype=uint8)"
      ]
     },
     "execution_count": 11,
     "metadata": {},
     "output_type": "execute_result"
    }
   ],
   "source": [
    "y_train[:5]"
   ]
  },
  {
   "cell_type": "code",
   "execution_count": 12,
   "id": "6150de09",
   "metadata": {},
   "outputs": [],
   "source": [
    "y_train = y_train.reshape(-1)"
   ]
  },
  {
   "cell_type": "code",
   "execution_count": 13,
   "id": "e321c395",
   "metadata": {},
   "outputs": [
    {
     "data": {
      "text/plain": [
       "array([6, 9, 9, 4, 1], dtype=uint8)"
      ]
     },
     "execution_count": 13,
     "metadata": {},
     "output_type": "execute_result"
    }
   ],
   "source": [
    "y_train[:5]"
   ]
  },
  {
   "cell_type": "code",
   "execution_count": 9,
   "id": "3bc32ba5",
   "metadata": {},
   "outputs": [
    {
     "data": {
      "text/plain": [
       "<matplotlib.image.AxesImage at 0x7fbf885e5820>"
      ]
     },
     "execution_count": 9,
     "metadata": {},
     "output_type": "execute_result"
    },
    {
     "data": {
      "image/png": "[encoded data removed]",
      "text/plain": [
       "<Figure size 1500x200 with 1 Axes>"
      ]
     },
     "metadata": {},
     "output_type": "display_data"
    }
   ],
   "source": [
    "plt.figure(figsize=(15,2))\n",
    "plt.imshow(X_train[2])"
   ]
  },
  {
   "cell_type": "code",
   "execution_count": 14,
   "id": "b5837cd5",
   "metadata": {},
   "outputs": [],
   "source": [
    "classes = ['airplane','automobile','bird','cat','deer','dog','frog','horse','ship','truck']"
   ]
  },
  {
   "cell_type": "code",
   "execution_count": 15,
   "id": "7b0af44b",
   "metadata": {},
   "outputs": [
    {
     "data": {
      "text/plain": [
       "'ship'"
      ]
     },
     "execution_count": 15,
     "metadata": {},
     "output_type": "execute_result"
    }
   ],
   "source": [
    "classes[8]"
   ]
  },
  {
   "cell_type": "code",
   "execution_count": 18,
   "id": "e437c3cf",
   "metadata": {},
   "outputs": [],
   "source": [
    "def plot_sample(X,y,index):\n",
    "    plt.figure(figsize=(15,2))\n",
    "    plt.imshow(X[index])\n",
    "    plt.xlabel(classes[y[index]])"
   ]
  },
  {
   "cell_type": "code",
   "execution_count": 22,
   "id": "ed41171e",
   "metadata": {},
   "outputs": [
    {
     "data": {
      "image/png": "[encoded data removed]",
      "text/plain": [
       "<Figure size 1500x200 with 1 Axes>"
      ]
     },
     "metadata": {},
     "output_type": "display_data"
    }
   ],
   "source": [
    "plot_sample(X_train,y_train,3)"
   ]
  },
  {
   "cell_type": "code",
   "execution_count": 23,
   "id": "b0b06ca1",
   "metadata": {},
   "outputs": [],
   "source": [
    "X_train = X_train/255\n",
    "X_test = X_test/255"
   ]
  },
  {
   "cell_type": "code",
   "execution_count": 25,
   "id": "338cd1c7",
   "metadata": {},
   "outputs": [
    {
     "name": "stdout",
     "output_type": "stream",
     "text": [
      "Epoch 1/5\n",
      "1563/1563 [==============================] - 21s 13ms/step - loss: 1.8141 - accuracy: 0.3534\n",
      "Epoch 2/5\n",
      "1563/1563 [==============================] - 21s 13ms/step - loss: 1.6244 - accuracy: 0.4265\n",
      "Epoch 3/5\n",
      "1563/1563 [==============================] - 21s 13ms/step - loss: 1.5426 - accuracy: 0.4552\n",
      "Epoch 4/5\n",
      "1563/1563 [==============================] - 21s 13ms/step - loss: 1.4819 - accuracy: 0.4771\n",
      "Epoch 5/5\n",
      "1563/1563 [==============================] - 21s 13ms/step - loss: 1.4348 - accuracy: 0.4950\n"
     ]
    },
    {
     "data": {
      "text/plain": [
       "<keras.callbacks.History at 0x7fbf5c7513d0>"
      ]
     },
     "execution_count": 25,
     "metadata": {},
     "output_type": "execute_result"
    }
   ],
   "source": [
    "ann = models.Sequential([\n",
    "    layers.Flatten(input_shape=(32,32,3)),\n",
    "    layers.Dense(3000, activation='relu'),\n",
    "    layers.Dense(1000, activation='relu'),\n",
    "    layers.Dense(10, activation='sigmoid')\n",
    "])\n",
    "\n",
    "ann.compile(optimizer='SGD',\n",
    "            loss = 'sparse_categorical_crossentropy',\n",
    "            metrics= ['accuracy'])\n",
    "\n",
    "ann.fit(X_train,y_train,epochs=5)"
   ]
  },
  {
   "cell_type": "code",
   "execution_count": 26,
   "id": "d86425ec",
   "metadata": {},
   "outputs": [
    {
     "name": "stdout",
     "output_type": "stream",
     "text": [
      "313/313 [==============================] - 2s 6ms/step - loss: 1.4537 - accuracy: 0.4840\n"
     ]
    },
    {
     "data": {
      "text/plain": [
       "[1.4537259340286255, 0.48399999737739563]"
      ]
     },
     "execution_count": 26,
     "metadata": {},
     "output_type": "execute_result"
    }
   ],
   "source": [
    "ann.evaluate(X_test,y_test)"
   ]
  },
  {
   "cell_type": "code",
   "execution_count": 28,
   "id": "be5a6795",
   "metadata": {},
   "outputs": [
    {
     "name": "stdout",
     "output_type": "stream",
     "text": [
      "313/313 [==============================] - 2s 6ms/step\n",
      "classification report for ANN is:\n",
      "               precision    recall  f1-score   support\n",
      "\n",
      "           0       0.63      0.49      0.55      1000\n",
      "           1       0.58      0.68      0.62      1000\n",
      "           2       0.33      0.47      0.38      1000\n",
      "           3       0.36      0.28      0.31      1000\n",
      "           4       0.51      0.28      0.36      1000\n",
      "           5       0.36      0.44      0.40      1000\n",
      "           6       0.46      0.65      0.53      1000\n",
      "           7       0.67      0.43      0.52      1000\n",
      "           8       0.72      0.50      0.59      1000\n",
      "           9       0.48      0.63      0.55      1000\n",
      "\n",
      "    accuracy                           0.48     10000\n",
      "   macro avg       0.51      0.48      0.48     10000\n",
      "weighted avg       0.51      0.48      0.48     10000\n",
      "\n"
     ]
    }
   ],
   "source": [
    "from sklearn.metrics import confusion_matrix, classification_report\n",
    "y_pred = ann.predict(X_test)\n",
    "y_pred_classes = [np.argmax(element) for element in y_pred]\n",
    "\n",
    "print(\"classification report for ANN is:\\n\", classification_report(y_test,y_pred_classes))"
   ]
  },
  {
   "cell_type": "code",
   "execution_count": 34,
   "id": "9701693e",
   "metadata": {},
   "outputs": [],
   "source": [
    "cnn = models.Sequential([\n",
    "    #cnn\n",
    "    layers.Conv2D(filters=32, kernel_size=(3,3), activation='relu', input_shape=(32,32,3)),\n",
    "    layers.MaxPooling2D(2,2),\n",
    "    \n",
    "    layers.Conv2D(filters=64, kernel_size=(3,3), activation='relu'),\n",
    "    layers.MaxPooling2D(2,2),\n",
    "    \n",
    "    #Dense\n",
    "    layers.Flatten(),\n",
    "    layers.Dense(64, activation='relu'),\n",
    "    layers.Dense(10, activation='softmax')\n",
    "])"
   ]
  },
  {
   "cell_type": "code",
   "execution_count": 35,
   "id": "3688e182",
   "metadata": {},
   "outputs": [],
   "source": [
    "cnn.compile(optimizer='adam',\n",
    "            loss= 'sparse_categorical_crossentropy',\n",
    "               metrics =['accuracy'])"
   ]
  },
  {
   "cell_type": "code",
   "execution_count": 38,
   "id": "2d44dc00",
   "metadata": {},
   "outputs": [
    {
     "name": "stdout",
     "output_type": "stream",
     "text": [
      "Epoch 1/30\n",
      "1563/1563 [==============================] - 12s 8ms/step - loss: 0.6141 - accuracy: 0.7852\n",
      "Epoch 2/30\n",
      "1563/1563 [==============================] - 12s 7ms/step - loss: 0.5795 - accuracy: 0.7954\n",
      "Epoch 3/30\n",
      "1563/1563 [==============================] - 12s 7ms/step - loss: 0.5515 - accuracy: 0.8077\n",
      "Epoch 4/30\n",
      "1563/1563 [==============================] - 12s 8ms/step - loss: 0.5208 - accuracy: 0.8166\n",
      "Epoch 5/30\n",
      "1563/1563 [==============================] - 12s 8ms/step - loss: 0.4967 - accuracy: 0.8265\n",
      "Epoch 6/30\n",
      "1563/1563 [==============================] - 12s 7ms/step - loss: 0.4660 - accuracy: 0.8365\n",
      "Epoch 7/30\n",
      "1563/1563 [==============================] - 12s 8ms/step - loss: 0.4451 - accuracy: 0.8431\n",
      "Epoch 8/30\n",
      "1563/1563 [==============================] - 12s 8ms/step - loss: 0.4171 - accuracy: 0.8527\n",
      "Epoch 9/30\n",
      "1563/1563 [==============================] - 12s 7ms/step - loss: 0.3925 - accuracy: 0.8605\n",
      "Epoch 10/30\n",
      "1563/1563 [==============================] - 12s 8ms/step - loss: 0.3700 - accuracy: 0.8692\n",
      "Epoch 11/30\n",
      "1563/1563 [==============================] - 12s 7ms/step - loss: 0.3514 - accuracy: 0.8748\n",
      "Epoch 12/30\n",
      "1563/1563 [==============================] - 11s 7ms/step - loss: 0.3284 - accuracy: 0.8836\n",
      "Epoch 13/30\n",
      "1563/1563 [==============================] - 12s 8ms/step - loss: 0.3080 - accuracy: 0.8895\n",
      "Epoch 14/30\n",
      "1563/1563 [==============================] - 12s 8ms/step - loss: 0.2931 - accuracy: 0.8957\n",
      "Epoch 15/30\n",
      "1563/1563 [==============================] - 12s 7ms/step - loss: 0.2780 - accuracy: 0.9008\n",
      "Epoch 16/30\n",
      "1563/1563 [==============================] - 12s 7ms/step - loss: 0.2620 - accuracy: 0.9072\n",
      "Epoch 17/30\n",
      "1563/1563 [==============================] - 11s 7ms/step - loss: 0.2465 - accuracy: 0.9113\n",
      "Epoch 18/30\n",
      "1563/1563 [==============================] - 12s 7ms/step - loss: 0.2303 - accuracy: 0.9179\n",
      "Epoch 19/30\n",
      "1563/1563 [==============================] - 12s 8ms/step - loss: 0.2209 - accuracy: 0.9204\n",
      "Epoch 20/30\n",
      "1563/1563 [==============================] - 12s 8ms/step - loss: 0.2177 - accuracy: 0.9210\n",
      "Epoch 21/30\n",
      "1563/1563 [==============================] - 12s 8ms/step - loss: 0.2009 - accuracy: 0.9282\n",
      "Epoch 22/30\n",
      "1563/1563 [==============================] - 12s 7ms/step - loss: 0.1949 - accuracy: 0.9316\n",
      "Epoch 23/30\n",
      "1563/1563 [==============================] - 11s 7ms/step - loss: 0.1883 - accuracy: 0.9331\n",
      "Epoch 24/30\n",
      "1563/1563 [==============================] - 11s 7ms/step - loss: 0.1715 - accuracy: 0.9382\n",
      "Epoch 25/30\n",
      "1563/1563 [==============================] - 11s 7ms/step - loss: 0.1711 - accuracy: 0.9387\n",
      "Epoch 26/30\n",
      "1563/1563 [==============================] - 12s 8ms/step - loss: 0.1656 - accuracy: 0.9416\n",
      "Epoch 27/30\n",
      "1563/1563 [==============================] - 12s 7ms/step - loss: 0.1538 - accuracy: 0.9446\n",
      "Epoch 28/30\n",
      "1563/1563 [==============================] - 11s 7ms/step - loss: 0.1502 - accuracy: 0.9452\n",
      "Epoch 29/30\n",
      "1563/1563 [==============================] - 12s 7ms/step - loss: 0.1479 - accuracy: 0.9469\n",
      "Epoch 30/30\n",
      "1563/1563 [==============================] - 11s 7ms/step - loss: 0.1487 - accuracy: 0.9467\n"
     ]
    },
    {
     "data": {
      "text/plain": [
       "<keras.callbacks.History at 0x7fbe482bb910>"
      ]
     },
     "execution_count": 38,
     "metadata": {},
     "output_type": "execute_result"
    }
   ],
   "source": [
    "cnn.fit(X_train,y_train,epochs=30)"
   ]
  },
  {
   "cell_type": "code",
   "execution_count": 39,
   "id": "d5184b76",
   "metadata": {},
   "outputs": [
    {
     "name": "stdout",
     "output_type": "stream",
     "text": [
      "313/313 [==============================] - 1s 3ms/step - loss: 2.4592 - accuracy: 0.6645\n"
     ]
    },
    {
     "data": {
      "text/plain": [
       "[2.4591774940490723, 0.6644999980926514]"
      ]
     },
     "execution_count": 39,
     "metadata": {},
     "output_type": "execute_result"
    }
   ],
   "source": [
    "cnn.evaluate(X_test,y_test)"
   ]
  },
  {
   "cell_type": "code",
   "execution_count": 41,
   "id": "de9d1c12",
   "metadata": {},
   "outputs": [
    {
     "data": {
      "image/png": "[encoded data removed]",
      "text/plain": [
       "<Figure size 1500x200 with 1 Axes>"
      ]
     },
     "metadata": {},
     "output_type": "display_data"
    }
   ],
   "source": [
    "y_test = y_test.reshape(-1)\n",
    "plot_sample(X_test,y_test,1)"
   ]
  },
  {
   "cell_type": "code",
   "execution_count": 42,
   "id": "3350b9ac",
   "metadata": {},
   "outputs": [
    {
     "name": "stdout",
     "output_type": "stream",
     "text": [
      "313/313 [==============================] - 1s 3ms/step\n"
     ]
    },
    {
     "data": {
      "text/plain": [
       "array([[6.3754232e-03, 6.3903179e-05, 5.3128018e-03, 9.7874635e-01,\n",
       "        8.4586818e-06, 8.8920863e-03, 1.6019710e-08, 1.1124381e-05,\n",
       "        6.7755180e-05, 5.2201468e-04],\n",
       "       [5.7667751e-07, 5.4324617e-10, 2.0201928e-15, 3.1451985e-23,\n",
       "        8.0473399e-23, 6.9896548e-29, 1.1303251e-21, 1.7176970e-30,\n",
       "        9.9999940e-01, 7.2201874e-14],\n",
       "       [1.3013321e-04, 9.9982637e-01, 5.3781809e-11, 4.7765972e-11,\n",
       "        5.3578008e-13, 2.5626232e-13, 1.7153310e-11, 3.9660553e-10,\n",
       "        4.3525361e-05, 2.4453296e-08],\n",
       "       [9.9757975e-01, 1.2315504e-04, 3.1963154e-06, 5.3276689e-11,\n",
       "        6.6098980e-11, 4.6929845e-16, 5.0159432e-13, 1.1823353e-14,\n",
       "        2.2925336e-03, 1.3090271e-06],\n",
       "       [3.9223939e-22, 2.5078499e-13, 1.3351016e-05, 3.7951002e-05,\n",
       "        5.3079766e-01, 6.8551431e-13, 4.6915111e-01, 4.9602042e-15,\n",
       "        3.1990248e-12, 4.2197195e-15]], dtype=float32)"
      ]
     },
     "execution_count": 42,
     "metadata": {},
     "output_type": "execute_result"
    }
   ],
   "source": [
    "y_pred = cnn.predict(X_test)\n",
    "y_pred[:5]"
   ]
  },
  {
   "cell_type": "code",
   "execution_count": 43,
   "id": "05a578bc",
   "metadata": {},
   "outputs": [
    {
     "data": {
      "text/plain": [
       "[3, 8, 1, 0, 4]"
      ]
     },
     "execution_count": 43,
     "metadata": {},
     "output_type": "execute_result"
    }
   ],
   "source": [
    "y_classes = [np.argmax(element) for element in y_pred]\n",
    "y_classes[:5]"
   ]
  },
  {
   "cell_type": "code",
   "execution_count": 44,
   "id": "be5fd53b",
   "metadata": {},
   "outputs": [
    {
     "data": {
      "text/plain": [
       "array([3, 8, 8, 0, 6], dtype=uint8)"
      ]
     },
     "execution_count": 44,
     "metadata": {},
     "output_type": "execute_result"
    }
   ],
   "source": [
    "y_test[:5]"
   ]
  },
  {
   "cell_type": "code",
   "execution_count": 45,
   "id": "cdfe8b48",
   "metadata": {
    "scrolled": true
   },
   "outputs": [
    {
     "data": {
      "image/png": "[encoded data removed]",
      "text/plain": [
       "<Figure size 1500x200 with 1 Axes>"
      ]
     },
     "metadata": {},
     "output_type": "display_data"
    }
   ],
   "source": [
    "plot_sample(X_test,y_test,1)"
   ]
  },
  {
   "cell_type": "code",
   "execution_count": 47,
   "id": "500d4091",
   "metadata": {},
   "outputs": [
    {
     "data": {
      "text/plain": [
       "['airplane',\n",
       " 'automobile',\n",
       " 'bird',\n",
       " 'cat',\n",
       " 'deer',\n",
       " 'dog',\n",
       " 'frog',\n",
       " 'horse',\n",
       " 'ship',\n",
       " 'truck']"
      ]
     },
     "execution_count": 47,
     "metadata": {},
     "output_type": "execute_result"
    }
   ],
   "source": [
    "classes"
   ]
  },
  {
   "cell_type": "code",
   "execution_count": 48,
   "id": "c91b987b",
   "metadata": {},
   "outputs": [
    {
     "data": {
      "text/plain": [
       "'ship'"
      ]
     },
     "execution_count": 48,
     "metadata": {},
     "output_type": "execute_result"
    }
   ],
   "source": [
    "classes[y_classes[1]]"
   ]
  },
  {
   "cell_type": "code",
   "execution_count": 49,
   "id": "b90baab3",
   "metadata": {},
   "outputs": [
    {
     "name": "stdout",
     "output_type": "stream",
     "text": [
      "Classification report for CNN :\n",
      "               precision    recall  f1-score   support\n",
      "\n",
      "           0       0.66      0.75      0.70      1000\n",
      "           1       0.75      0.81      0.78      1000\n",
      "           2       0.56      0.50      0.53      1000\n",
      "           3       0.49      0.45      0.47      1000\n",
      "           4       0.57      0.60      0.58      1000\n",
      "           5       0.58      0.58      0.58      1000\n",
      "           6       0.73      0.74      0.74      1000\n",
      "           7       0.72      0.70      0.71      1000\n",
      "           8       0.81      0.77      0.79      1000\n",
      "           9       0.75      0.74      0.74      1000\n",
      "\n",
      "    accuracy                           0.66     10000\n",
      "   macro avg       0.66      0.66      0.66     10000\n",
      "weighted avg       0.66      0.66      0.66     10000\n",
      "\n"
     ]
    }
   ],
   "source": [
    "print(\"Classification report for CNN :\\n\",classification_report(y_test, y_classes))"
   ]
  },
  {
   "cell_type": "code",
   "execution_count": null,
   "id": "eb8b6f66",
   "metadata": {},
   "outputs": [],
   "source": []
  }
 ],
 "metadata": {
  "kernelspec": {
   "display_name": "Python 3 (ipykernel)",
   "language": "python",
   "name": "python3"
  },
  "language_info": {
   "codemirror_mode": {
    "name": "ipython",
    "version": 3
   },
   "file_extension": ".py",
   "mimetype": "text/x-python",
   "name": "python",
   "nbconvert_exporter": "python",
   "pygments_lexer": "ipython3",
   "version": "3.9.16"
  }
 },
 "nbformat": 4,
 "nbformat_minor": 5
}
