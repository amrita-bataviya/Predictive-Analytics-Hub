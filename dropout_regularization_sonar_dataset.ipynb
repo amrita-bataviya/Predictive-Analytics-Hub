{
 "cells": [
  {
   "cell_type": "code",
   "execution_count": 1,
   "id": "5da735a4",
   "metadata": {},
   "outputs": [
    {
     "name": "stderr",
     "output_type": "stream",
     "text": [
      "2024-09-26 16:19:19.390778: I tensorflow/core/platform/cpu_feature_guard.cc:193] This TensorFlow binary is optimized with oneAPI Deep Neural Network Library (oneDNN) to use the following CPU instructions in performance-critical operations:  SSE4.1 SSE4.2\n",
      "To enable them in other operations, rebuild TensorFlow with the appropriate compiler flags.\n"
     ]
    }
   ],
   "source": [
    "import numpy as np\n",
    "import pandas as pd\n",
    "import tensorflow\n",
    "from tensorflow import keras"
   ]
  },
  {
   "cell_type": "code",
   "execution_count": 2,
   "id": "34ba0cee",
   "metadata": {},
   "outputs": [],
   "source": [
    "df = pd.read_csv(\"sonar_dataset.csv\", header=None)"
   ]
  },
  {
   "cell_type": "code",
   "execution_count": 3,
   "id": "25571ad2",
   "metadata": {},
   "outputs": [
    {
     "data": {
      "text/html": [
       "<div>\n",
       "<style scoped>\n",
       "    .dataframe tbody tr th:only-of-type {\n",
       "        vertical-align: middle;\n",
       "    }\n",
       "\n",
       "    .dataframe tbody tr th {\n",
       "        vertical-align: top;\n",
       "    }\n",
       "\n",
       "    .dataframe thead th {\n",
       "        text-align: right;\n",
       "    }\n",
       "</style>\n",
       "<table border=\"1\" class=\"dataframe\">\n",
       "  <thead>\n",
       "    <tr style=\"text-align: right;\">\n",
       "      <th></th>\n",
       "      <th>0</th>\n",
       "      <th>1</th>\n",
       "      <th>2</th>\n",
       "      <th>3</th>\n",
       "      <th>4</th>\n",
       "      <th>5</th>\n",
       "      <th>6</th>\n",
       "      <th>7</th>\n",
       "      <th>8</th>\n",
       "      <th>9</th>\n",
       "      <th>...</th>\n",
       "      <th>51</th>\n",
       "      <th>52</th>\n",
       "      <th>53</th>\n",
       "      <th>54</th>\n",
       "      <th>55</th>\n",
       "      <th>56</th>\n",
       "      <th>57</th>\n",
       "      <th>58</th>\n",
       "      <th>59</th>\n",
       "      <th>60</th>\n",
       "    </tr>\n",
       "  </thead>\n",
       "  <tbody>\n",
       "    <tr>\n",
       "      <th>0</th>\n",
       "      <td>0.0200</td>\n",
       "      <td>0.0371</td>\n",
       "      <td>0.0428</td>\n",
       "      <td>0.0207</td>\n",
       "      <td>0.0954</td>\n",
       "      <td>0.0986</td>\n",
       "      <td>0.1539</td>\n",
       "      <td>0.1601</td>\n",
       "      <td>0.3109</td>\n",
       "      <td>0.2111</td>\n",
       "      <td>...</td>\n",
       "      <td>0.0027</td>\n",
       "      <td>0.0065</td>\n",
       "      <td>0.0159</td>\n",
       "      <td>0.0072</td>\n",
       "      <td>0.0167</td>\n",
       "      <td>0.0180</td>\n",
       "      <td>0.0084</td>\n",
       "      <td>0.0090</td>\n",
       "      <td>0.0032</td>\n",
       "      <td>R</td>\n",
       "    </tr>\n",
       "    <tr>\n",
       "      <th>1</th>\n",
       "      <td>0.0453</td>\n",
       "      <td>0.0523</td>\n",
       "      <td>0.0843</td>\n",
       "      <td>0.0689</td>\n",
       "      <td>0.1183</td>\n",
       "      <td>0.2583</td>\n",
       "      <td>0.2156</td>\n",
       "      <td>0.3481</td>\n",
       "      <td>0.3337</td>\n",
       "      <td>0.2872</td>\n",
       "      <td>...</td>\n",
       "      <td>0.0084</td>\n",
       "      <td>0.0089</td>\n",
       "      <td>0.0048</td>\n",
       "      <td>0.0094</td>\n",
       "      <td>0.0191</td>\n",
       "      <td>0.0140</td>\n",
       "      <td>0.0049</td>\n",
       "      <td>0.0052</td>\n",
       "      <td>0.0044</td>\n",
       "      <td>R</td>\n",
       "    </tr>\n",
       "    <tr>\n",
       "      <th>2</th>\n",
       "      <td>0.0262</td>\n",
       "      <td>0.0582</td>\n",
       "      <td>0.1099</td>\n",
       "      <td>0.1083</td>\n",
       "      <td>0.0974</td>\n",
       "      <td>0.2280</td>\n",
       "      <td>0.2431</td>\n",
       "      <td>0.3771</td>\n",
       "      <td>0.5598</td>\n",
       "      <td>0.6194</td>\n",
       "      <td>...</td>\n",
       "      <td>0.0232</td>\n",
       "      <td>0.0166</td>\n",
       "      <td>0.0095</td>\n",
       "      <td>0.0180</td>\n",
       "      <td>0.0244</td>\n",
       "      <td>0.0316</td>\n",
       "      <td>0.0164</td>\n",
       "      <td>0.0095</td>\n",
       "      <td>0.0078</td>\n",
       "      <td>R</td>\n",
       "    </tr>\n",
       "    <tr>\n",
       "      <th>3</th>\n",
       "      <td>0.0100</td>\n",
       "      <td>0.0171</td>\n",
       "      <td>0.0623</td>\n",
       "      <td>0.0205</td>\n",
       "      <td>0.0205</td>\n",
       "      <td>0.0368</td>\n",
       "      <td>0.1098</td>\n",
       "      <td>0.1276</td>\n",
       "      <td>0.0598</td>\n",
       "      <td>0.1264</td>\n",
       "      <td>...</td>\n",
       "      <td>0.0121</td>\n",
       "      <td>0.0036</td>\n",
       "      <td>0.0150</td>\n",
       "      <td>0.0085</td>\n",
       "      <td>0.0073</td>\n",
       "      <td>0.0050</td>\n",
       "      <td>0.0044</td>\n",
       "      <td>0.0040</td>\n",
       "      <td>0.0117</td>\n",
       "      <td>R</td>\n",
       "    </tr>\n",
       "    <tr>\n",
       "      <th>4</th>\n",
       "      <td>0.0762</td>\n",
       "      <td>0.0666</td>\n",
       "      <td>0.0481</td>\n",
       "      <td>0.0394</td>\n",
       "      <td>0.0590</td>\n",
       "      <td>0.0649</td>\n",
       "      <td>0.1209</td>\n",
       "      <td>0.2467</td>\n",
       "      <td>0.3564</td>\n",
       "      <td>0.4459</td>\n",
       "      <td>...</td>\n",
       "      <td>0.0031</td>\n",
       "      <td>0.0054</td>\n",
       "      <td>0.0105</td>\n",
       "      <td>0.0110</td>\n",
       "      <td>0.0015</td>\n",
       "      <td>0.0072</td>\n",
       "      <td>0.0048</td>\n",
       "      <td>0.0107</td>\n",
       "      <td>0.0094</td>\n",
       "      <td>R</td>\n",
       "    </tr>\n",
       "  </tbody>\n",
       "</table>\n",
       "<p>5 rows × 61 columns</p>\n",
       "</div>"
      ],
      "text/plain": [
       "       0       1       2       3       4       5       6       7       8    \n",
       "0  0.0200  0.0371  0.0428  0.0207  0.0954  0.0986  0.1539  0.1601  0.3109  \\\n",
       "1  0.0453  0.0523  0.0843  0.0689  0.1183  0.2583  0.2156  0.3481  0.3337   \n",
       "2  0.0262  0.0582  0.1099  0.1083  0.0974  0.2280  0.2431  0.3771  0.5598   \n",
       "3  0.0100  0.0171  0.0623  0.0205  0.0205  0.0368  0.1098  0.1276  0.0598   \n",
       "4  0.0762  0.0666  0.0481  0.0394  0.0590  0.0649  0.1209  0.2467  0.3564   \n",
       "\n",
       "       9   ...      51      52      53      54      55      56      57   \n",
       "0  0.2111  ...  0.0027  0.0065  0.0159  0.0072  0.0167  0.0180  0.0084  \\\n",
       "1  0.2872  ...  0.0084  0.0089  0.0048  0.0094  0.0191  0.0140  0.0049   \n",
       "2  0.6194  ...  0.0232  0.0166  0.0095  0.0180  0.0244  0.0316  0.0164   \n",
       "3  0.1264  ...  0.0121  0.0036  0.0150  0.0085  0.0073  0.0050  0.0044   \n",
       "4  0.4459  ...  0.0031  0.0054  0.0105  0.0110  0.0015  0.0072  0.0048   \n",
       "\n",
       "       58      59  60  \n",
       "0  0.0090  0.0032   R  \n",
       "1  0.0052  0.0044   R  \n",
       "2  0.0095  0.0078   R  \n",
       "3  0.0040  0.0117   R  \n",
       "4  0.0107  0.0094   R  \n",
       "\n",
       "[5 rows x 61 columns]"
      ]
     },
     "execution_count": 3,
     "metadata": {},
     "output_type": "execute_result"
    }
   ],
   "source": [
    "df.head()"
   ]
  },
  {
   "cell_type": "code",
   "execution_count": 4,
   "id": "430cf4c1",
   "metadata": {},
   "outputs": [
    {
     "data": {
      "text/plain": [
       "Index([ 0,  1,  2,  3,  4,  5,  6,  7,  8,  9, 10, 11, 12, 13, 14, 15, 16, 17,\n",
       "       18, 19, 20, 21, 22, 23, 24, 25, 26, 27, 28, 29, 30, 31, 32, 33, 34, 35,\n",
       "       36, 37, 38, 39, 40, 41, 42, 43, 44, 45, 46, 47, 48, 49, 50, 51, 52, 53,\n",
       "       54, 55, 56, 57, 58, 59, 60],\n",
       "      dtype='int64')"
      ]
     },
     "execution_count": 4,
     "metadata": {},
     "output_type": "execute_result"
    }
   ],
   "source": [
    "df.columns"
   ]
  },
  {
   "cell_type": "code",
   "execution_count": 10,
   "id": "77b23c16",
   "metadata": {},
   "outputs": [
    {
     "data": {
      "text/plain": [
       "0     0\n",
       "1     0\n",
       "2     0\n",
       "3     0\n",
       "4     0\n",
       "     ..\n",
       "56    0\n",
       "57    0\n",
       "58    0\n",
       "59    0\n",
       "60    0\n",
       "Length: 61, dtype: int64"
      ]
     },
     "execution_count": 10,
     "metadata": {},
     "output_type": "execute_result"
    }
   ],
   "source": [
    "df.isna().sum()"
   ]
  },
  {
   "cell_type": "code",
   "execution_count": 12,
   "id": "a6330444",
   "metadata": {},
   "outputs": [
    {
     "data": {
      "text/plain": [
       "<bound method IndexOpsMixin.value_counts of 0      R\n",
       "1      R\n",
       "2      R\n",
       "3      R\n",
       "4      R\n",
       "      ..\n",
       "203    M\n",
       "204    M\n",
       "205    M\n",
       "206    M\n",
       "207    M\n",
       "Name: 60, Length: 208, dtype: object>"
      ]
     },
     "execution_count": 12,
     "metadata": {},
     "output_type": "execute_result"
    }
   ],
   "source": [
    "df[60].value_counts"
   ]
  },
  {
   "cell_type": "code",
   "execution_count": 14,
   "id": "a893650f",
   "metadata": {},
   "outputs": [],
   "source": [
    "X = df.drop([60],axis=1)"
   ]
  },
  {
   "cell_type": "code",
   "execution_count": 15,
   "id": "ea743c0e",
   "metadata": {},
   "outputs": [],
   "source": [
    "y = df[60]"
   ]
  },
  {
   "cell_type": "code",
   "execution_count": 16,
   "id": "c8f2842e",
   "metadata": {},
   "outputs": [
    {
     "data": {
      "text/plain": [
       "0    R\n",
       "1    R\n",
       "2    R\n",
       "3    R\n",
       "4    R\n",
       "Name: 60, dtype: object"
      ]
     },
     "execution_count": 16,
     "metadata": {},
     "output_type": "execute_result"
    }
   ],
   "source": [
    "y.head()"
   ]
  },
  {
   "cell_type": "code",
   "execution_count": 17,
   "id": "0cae44a3",
   "metadata": {},
   "outputs": [],
   "source": [
    "y = pd.get_dummies(y, drop_first=True)"
   ]
  },
  {
   "cell_type": "code",
   "execution_count": 18,
   "id": "7759d028",
   "metadata": {},
   "outputs": [
    {
     "data": {
      "text/html": [
       "<div>\n",
       "<style scoped>\n",
       "    .dataframe tbody tr th:only-of-type {\n",
       "        vertical-align: middle;\n",
       "    }\n",
       "\n",
       "    .dataframe tbody tr th {\n",
       "        vertical-align: top;\n",
       "    }\n",
       "\n",
       "    .dataframe thead th {\n",
       "        text-align: right;\n",
       "    }\n",
       "</style>\n",
       "<table border=\"1\" class=\"dataframe\">\n",
       "  <thead>\n",
       "    <tr style=\"text-align: right;\">\n",
       "      <th></th>\n",
       "      <th>R</th>\n",
       "    </tr>\n",
       "  </thead>\n",
       "  <tbody>\n",
       "    <tr>\n",
       "      <th>161</th>\n",
       "      <td>False</td>\n",
       "    </tr>\n",
       "    <tr>\n",
       "      <th>125</th>\n",
       "      <td>False</td>\n",
       "    </tr>\n",
       "    <tr>\n",
       "      <th>94</th>\n",
       "      <td>True</td>\n",
       "    </tr>\n",
       "    <tr>\n",
       "      <th>186</th>\n",
       "      <td>False</td>\n",
       "    </tr>\n",
       "    <tr>\n",
       "      <th>157</th>\n",
       "      <td>False</td>\n",
       "    </tr>\n",
       "  </tbody>\n",
       "</table>\n",
       "</div>"
      ],
      "text/plain": [
       "         R\n",
       "161  False\n",
       "125  False\n",
       "94    True\n",
       "186  False\n",
       "157  False"
      ]
     },
     "execution_count": 18,
     "metadata": {},
     "output_type": "execute_result"
    }
   ],
   "source": [
    "y.sample(5)"
   ]
  },
  {
   "cell_type": "code",
   "execution_count": 22,
   "id": "12f3383a",
   "metadata": {},
   "outputs": [],
   "source": [
    "y = y.astype(int)"
   ]
  },
  {
   "cell_type": "code",
   "execution_count": 24,
   "id": "2513f05c",
   "metadata": {},
   "outputs": [
    {
     "data": {
      "text/plain": [
       "R\n",
       "0    111\n",
       "1     97\n",
       "Name: count, dtype: int64"
      ]
     },
     "execution_count": 24,
     "metadata": {},
     "output_type": "execute_result"
    }
   ],
   "source": [
    "y.value_counts()"
   ]
  },
  {
   "cell_type": "code",
   "execution_count": 25,
   "id": "4920c237",
   "metadata": {},
   "outputs": [],
   "source": [
    "from sklearn.model_selection import train_test_split\n",
    "X_train, X_test, y_train, y_test = train_test_split(X,y,test_size=0.25,random_state=5)"
   ]
  },
  {
   "cell_type": "code",
   "execution_count": 29,
   "id": "e70e5b83",
   "metadata": {},
   "outputs": [
    {
     "name": "stdout",
     "output_type": "stream",
     "text": [
      "Epoch 1/60\n",
      "20/20 [==============================] - 0s 978us/step - loss: 0.6922 - accuracy: 0.5256\n",
      "Epoch 2/60\n",
      "20/20 [==============================] - 0s 937us/step - loss: 0.6819 - accuracy: 0.5064\n",
      "Epoch 3/60\n",
      "20/20 [==============================] - 0s 1ms/step - loss: 0.6661 - accuracy: 0.6731\n",
      "Epoch 4/60\n",
      "20/20 [==============================] - 0s 882us/step - loss: 0.6453 - accuracy: 0.6026\n",
      "Epoch 5/60\n",
      "20/20 [==============================] - 0s 971us/step - loss: 0.6115 - accuracy: 0.7949\n",
      "Epoch 6/60\n",
      "20/20 [==============================] - 0s 947us/step - loss: 0.5796 - accuracy: 0.7628\n",
      "Epoch 7/60\n",
      "20/20 [==============================] - 0s 898us/step - loss: 0.5627 - accuracy: 0.7756\n",
      "Epoch 8/60\n",
      "20/20 [==============================] - 0s 918us/step - loss: 0.5097 - accuracy: 0.8462\n",
      "Epoch 9/60\n",
      "20/20 [==============================] - 0s 820us/step - loss: 0.4827 - accuracy: 0.8269\n",
      "Epoch 10/60\n",
      "20/20 [==============================] - 0s 950us/step - loss: 0.4559 - accuracy: 0.8462\n",
      "Epoch 11/60\n",
      "20/20 [==============================] - 0s 903us/step - loss: 0.4180 - accuracy: 0.8654\n",
      "Epoch 12/60\n",
      "20/20 [==============================] - 0s 897us/step - loss: 0.4093 - accuracy: 0.8333\n",
      "Epoch 13/60\n",
      "20/20 [==============================] - 0s 845us/step - loss: 0.3744 - accuracy: 0.8654\n",
      "Epoch 14/60\n",
      "20/20 [==============================] - 0s 850us/step - loss: 0.3770 - accuracy: 0.8397\n",
      "Epoch 15/60\n",
      "20/20 [==============================] - 0s 831us/step - loss: 0.3361 - accuracy: 0.8654\n",
      "Epoch 16/60\n",
      "20/20 [==============================] - 0s 903us/step - loss: 0.3194 - accuracy: 0.8846\n",
      "Epoch 17/60\n",
      "20/20 [==============================] - 0s 867us/step - loss: 0.3205 - accuracy: 0.8462\n",
      "Epoch 18/60\n",
      "20/20 [==============================] - 0s 898us/step - loss: 0.3092 - accuracy: 0.8782\n",
      "Epoch 19/60\n",
      "20/20 [==============================] - 0s 911us/step - loss: 0.3411 - accuracy: 0.8205\n",
      "Epoch 20/60\n",
      "20/20 [==============================] - 0s 929us/step - loss: 0.2959 - accuracy: 0.8718\n",
      "Epoch 21/60\n",
      "20/20 [==============================] - 0s 856us/step - loss: 0.2538 - accuracy: 0.9038\n",
      "Epoch 22/60\n",
      "20/20 [==============================] - 0s 919us/step - loss: 0.2333 - accuracy: 0.9038\n",
      "Epoch 23/60\n",
      "20/20 [==============================] - 0s 896us/step - loss: 0.2249 - accuracy: 0.9038\n",
      "Epoch 24/60\n",
      "20/20 [==============================] - 0s 900us/step - loss: 0.2206 - accuracy: 0.9359\n",
      "Epoch 25/60\n",
      "20/20 [==============================] - 0s 867us/step - loss: 0.1926 - accuracy: 0.9423\n",
      "Epoch 26/60\n",
      "20/20 [==============================] - 0s 916us/step - loss: 0.1869 - accuracy: 0.9423\n",
      "Epoch 27/60\n",
      "20/20 [==============================] - 0s 927us/step - loss: 0.1968 - accuracy: 0.9038\n",
      "Epoch 28/60\n",
      "20/20 [==============================] - 0s 804us/step - loss: 0.1520 - accuracy: 0.9615\n",
      "Epoch 29/60\n",
      "20/20 [==============================] - 0s 890us/step - loss: 0.1457 - accuracy: 0.9487\n",
      "Epoch 30/60\n",
      "20/20 [==============================] - 0s 921us/step - loss: 0.1511 - accuracy: 0.9423\n",
      "Epoch 31/60\n",
      "20/20 [==============================] - 0s 920us/step - loss: 0.1429 - accuracy: 0.9551\n",
      "Epoch 32/60\n",
      "20/20 [==============================] - 0s 921us/step - loss: 0.1243 - accuracy: 0.9744\n",
      "Epoch 33/60\n",
      "20/20 [==============================] - 0s 854us/step - loss: 0.1115 - accuracy: 0.9936\n",
      "Epoch 34/60\n",
      "20/20 [==============================] - 0s 881us/step - loss: 0.0980 - accuracy: 0.9936\n",
      "Epoch 35/60\n",
      "20/20 [==============================] - 0s 865us/step - loss: 0.0878 - accuracy: 0.9936\n",
      "Epoch 36/60\n",
      "20/20 [==============================] - 0s 904us/step - loss: 0.0898 - accuracy: 0.9936\n",
      "Epoch 37/60\n",
      "20/20 [==============================] - 0s 899us/step - loss: 0.1129 - accuracy: 0.9679\n",
      "Epoch 38/60\n",
      "20/20 [==============================] - 0s 978us/step - loss: 0.1097 - accuracy: 0.9679\n",
      "Epoch 39/60\n",
      "20/20 [==============================] - 0s 954us/step - loss: 0.0900 - accuracy: 0.9744\n",
      "Epoch 40/60\n",
      "20/20 [==============================] - 0s 898us/step - loss: 0.0770 - accuracy: 0.9808\n",
      "Epoch 41/60\n",
      "20/20 [==============================] - 0s 871us/step - loss: 0.0578 - accuracy: 1.0000\n",
      "Epoch 42/60\n",
      "20/20 [==============================] - 0s 960us/step - loss: 0.0695 - accuracy: 0.9744\n",
      "Epoch 43/60\n",
      "20/20 [==============================] - 0s 954us/step - loss: 0.0553 - accuracy: 0.9936\n",
      "Epoch 44/60\n",
      "20/20 [==============================] - 0s 994us/step - loss: 0.0451 - accuracy: 1.0000\n",
      "Epoch 45/60\n",
      "20/20 [==============================] - 0s 918us/step - loss: 0.0397 - accuracy: 1.0000\n",
      "Epoch 46/60\n",
      "20/20 [==============================] - 0s 879us/step - loss: 0.0429 - accuracy: 0.9936\n",
      "Epoch 47/60\n",
      "20/20 [==============================] - 0s 936us/step - loss: 0.0377 - accuracy: 1.0000\n",
      "Epoch 48/60\n",
      "20/20 [==============================] - 0s 933us/step - loss: 0.0437 - accuracy: 0.9936\n",
      "Epoch 49/60\n",
      "20/20 [==============================] - 0s 896us/step - loss: 0.0288 - accuracy: 1.0000\n",
      "Epoch 50/60\n",
      "20/20 [==============================] - 0s 793us/step - loss: 0.0251 - accuracy: 1.0000\n",
      "Epoch 51/60\n",
      "20/20 [==============================] - 0s 938us/step - loss: 0.0210 - accuracy: 1.0000\n",
      "Epoch 52/60\n",
      "20/20 [==============================] - 0s 979us/step - loss: 0.0214 - accuracy: 1.0000\n",
      "Epoch 53/60\n",
      "20/20 [==============================] - 0s 926us/step - loss: 0.0221 - accuracy: 1.0000\n",
      "Epoch 54/60\n",
      "20/20 [==============================] - 0s 905us/step - loss: 0.0168 - accuracy: 1.0000\n",
      "Epoch 55/60\n",
      "20/20 [==============================] - 0s 870us/step - loss: 0.0174 - accuracy: 1.0000\n",
      "Epoch 56/60\n",
      "20/20 [==============================] - 0s 898us/step - loss: 0.0154 - accuracy: 1.0000\n",
      "Epoch 57/60\n",
      "20/20 [==============================] - 0s 886us/step - loss: 0.0182 - accuracy: 1.0000\n",
      "Epoch 58/60\n",
      "20/20 [==============================] - 0s 858us/step - loss: 0.0146 - accuracy: 1.0000\n",
      "Epoch 59/60\n",
      "20/20 [==============================] - 0s 902us/step - loss: 0.0139 - accuracy: 1.0000\n",
      "Epoch 60/60\n",
      "20/20 [==============================] - 0s 876us/step - loss: 0.0110 - accuracy: 1.0000\n"
     ]
    },
    {
     "data": {
      "text/plain": [
       "<keras.callbacks.History at 0x7ff4a116c5e0>"
      ]
     },
     "execution_count": 29,
     "metadata": {},
     "output_type": "execute_result"
    }
   ],
   "source": [
    "model = keras.Sequential([\n",
    "    keras.layers.Dense(60, input_dim=60, activation='relu'),\n",
    "    keras.layers.Dense(30, activation='relu'),\n",
    "    keras.layers.Dense(15, activation='relu'),\n",
    "    keras.layers.Dense(1, activation='sigmoid')\n",
    "])\n",
    "\n",
    "model.compile(optimizer='adam', loss='binary_crossentropy', metrics=['accuracy'])\n",
    "\n",
    "model.fit(X_train, y_train, epochs=60, batch_size=8)"
   ]
  },
  {
   "cell_type": "code",
   "execution_count": 31,
   "id": "5674acfb",
   "metadata": {},
   "outputs": [
    {
     "name": "stdout",
     "output_type": "stream",
     "text": [
      "2/2 [==============================] - 0s 2ms/step - loss: 0.4602 - accuracy: 0.8462\n"
     ]
    },
    {
     "data": {
      "text/plain": [
       "[0.4601862132549286, 0.8461538553237915]"
      ]
     },
     "execution_count": 31,
     "metadata": {},
     "output_type": "execute_result"
    }
   ],
   "source": [
    "model.evaluate(X_test, y_test)"
   ]
  },
  {
   "cell_type": "code",
   "execution_count": 38,
   "id": "7094908d",
   "metadata": {},
   "outputs": [
    {
     "name": "stdout",
     "output_type": "stream",
     "text": [
      "2/2 [==============================] - 0s 1ms/step\n",
      "[6.6205954e-05 9.7674221e-01 1.0286280e-01 2.2043070e-02 9.3309116e-01\n",
      " 2.6826357e-04 9.9589020e-01 9.9994075e-01 2.2332955e-03 9.9936175e-01]\n",
      "[0. 1. 0. 0. 1. 0. 1. 1. 0. 1.]\n"
     ]
    }
   ],
   "source": [
    "y_pred = model.predict(X_test).reshape(-1)\n",
    "print(y_pred[:10])\n",
    "\n",
    "y_pred = np.round(y_pred)\n",
    "print(y_pred[:10])"
   ]
  },
  {
   "cell_type": "code",
   "execution_count": 37,
   "id": "eb8c6d8e",
   "metadata": {},
   "outputs": [
    {
     "data": {
      "text/html": [
       "<div>\n",
       "<style scoped>\n",
       "    .dataframe tbody tr th:only-of-type {\n",
       "        vertical-align: middle;\n",
       "    }\n",
       "\n",
       "    .dataframe tbody tr th {\n",
       "        vertical-align: top;\n",
       "    }\n",
       "\n",
       "    .dataframe thead th {\n",
       "        text-align: right;\n",
       "    }\n",
       "</style>\n",
       "<table border=\"1\" class=\"dataframe\">\n",
       "  <thead>\n",
       "    <tr style=\"text-align: right;\">\n",
       "      <th></th>\n",
       "      <th>R</th>\n",
       "    </tr>\n",
       "  </thead>\n",
       "  <tbody>\n",
       "    <tr>\n",
       "      <th>156</th>\n",
       "      <td>0</td>\n",
       "    </tr>\n",
       "    <tr>\n",
       "      <th>21</th>\n",
       "      <td>1</td>\n",
       "    </tr>\n",
       "    <tr>\n",
       "      <th>193</th>\n",
       "      <td>0</td>\n",
       "    </tr>\n",
       "    <tr>\n",
       "      <th>159</th>\n",
       "      <td>0</td>\n",
       "    </tr>\n",
       "    <tr>\n",
       "      <th>34</th>\n",
       "      <td>1</td>\n",
       "    </tr>\n",
       "    <tr>\n",
       "      <th>196</th>\n",
       "      <td>0</td>\n",
       "    </tr>\n",
       "    <tr>\n",
       "      <th>6</th>\n",
       "      <td>1</td>\n",
       "    </tr>\n",
       "    <tr>\n",
       "      <th>25</th>\n",
       "      <td>1</td>\n",
       "    </tr>\n",
       "    <tr>\n",
       "      <th>115</th>\n",
       "      <td>0</td>\n",
       "    </tr>\n",
       "    <tr>\n",
       "      <th>51</th>\n",
       "      <td>1</td>\n",
       "    </tr>\n",
       "  </tbody>\n",
       "</table>\n",
       "</div>"
      ],
      "text/plain": [
       "     R\n",
       "156  0\n",
       "21   1\n",
       "193  0\n",
       "159  0\n",
       "34   1\n",
       "196  0\n",
       "6    1\n",
       "25   1\n",
       "115  0\n",
       "51   1"
      ]
     },
     "execution_count": 37,
     "metadata": {},
     "output_type": "execute_result"
    }
   ],
   "source": [
    "y_test[:10]"
   ]
  },
  {
   "cell_type": "code",
   "execution_count": 39,
   "id": "dd9d3e29",
   "metadata": {},
   "outputs": [
    {
     "name": "stdout",
     "output_type": "stream",
     "text": [
      "              precision    recall  f1-score   support\n",
      "\n",
      "           0       0.90      0.84      0.87        32\n",
      "           1       0.77      0.85      0.81        20\n",
      "\n",
      "    accuracy                           0.85        52\n",
      "   macro avg       0.84      0.85      0.84        52\n",
      "weighted avg       0.85      0.85      0.85        52\n",
      "\n"
     ]
    }
   ],
   "source": [
    "from sklearn.metrics import confusion_matrix, classification_report\n",
    "\n",
    "print(classification_report(y_test, y_pred))"
   ]
  },
  {
   "cell_type": "code",
   "execution_count": 41,
   "id": "e1bf7779",
   "metadata": {},
   "outputs": [
    {
     "name": "stdout",
     "output_type": "stream",
     "text": [
      "Epoch 1/60\n",
      "20/20 [==============================] - 0s 937us/step - loss: 0.7125 - accuracy: 0.5321\n",
      "Epoch 2/60\n",
      "20/20 [==============================] - 0s 915us/step - loss: 0.7507 - accuracy: 0.4744\n",
      "Epoch 3/60\n",
      "20/20 [==============================] - 0s 949us/step - loss: 0.7245 - accuracy: 0.5064\n",
      "Epoch 4/60\n",
      "20/20 [==============================] - 0s 963us/step - loss: 0.6957 - accuracy: 0.4744\n",
      "Epoch 5/60\n",
      "20/20 [==============================] - 0s 971us/step - loss: 0.7148 - accuracy: 0.4936\n",
      "Epoch 6/60\n",
      "20/20 [==============================] - 0s 1ms/step - loss: 0.6797 - accuracy: 0.5769\n",
      "Epoch 7/60\n",
      "20/20 [==============================] - 0s 933us/step - loss: 0.6970 - accuracy: 0.5385\n",
      "Epoch 8/60\n",
      "20/20 [==============================] - 0s 843us/step - loss: 0.6998 - accuracy: 0.4487\n",
      "Epoch 9/60\n",
      "20/20 [==============================] - 0s 931us/step - loss: 0.7052 - accuracy: 0.4615\n",
      "Epoch 10/60\n",
      "20/20 [==============================] - 0s 1ms/step - loss: 0.7052 - accuracy: 0.4936\n",
      "Epoch 11/60\n",
      "20/20 [==============================] - 0s 942us/step - loss: 0.6949 - accuracy: 0.5385\n",
      "Epoch 12/60\n",
      "20/20 [==============================] - 0s 1ms/step - loss: 0.6940 - accuracy: 0.5192\n",
      "Epoch 13/60\n",
      "20/20 [==============================] - 0s 961us/step - loss: 0.6967 - accuracy: 0.4872\n",
      "Epoch 14/60\n",
      "20/20 [==============================] - 0s 956us/step - loss: 0.6913 - accuracy: 0.5449\n",
      "Epoch 15/60\n",
      "20/20 [==============================] - 0s 860us/step - loss: 0.6670 - accuracy: 0.6090\n",
      "Epoch 16/60\n",
      "20/20 [==============================] - 0s 932us/step - loss: 0.6949 - accuracy: 0.5000\n",
      "Epoch 17/60\n",
      "20/20 [==============================] - 0s 961us/step - loss: 0.6643 - accuracy: 0.6026\n",
      "Epoch 18/60\n",
      "20/20 [==============================] - 0s 940us/step - loss: 0.6779 - accuracy: 0.5833\n",
      "Epoch 19/60\n",
      "20/20 [==============================] - 0s 914us/step - loss: 0.6863 - accuracy: 0.5321\n",
      "Epoch 20/60\n",
      "20/20 [==============================] - 0s 955us/step - loss: 0.6992 - accuracy: 0.5256\n",
      "Epoch 21/60\n",
      "20/20 [==============================] - 0s 953us/step - loss: 0.6860 - accuracy: 0.5641\n",
      "Epoch 22/60\n",
      "20/20 [==============================] - 0s 861us/step - loss: 0.6711 - accuracy: 0.5385\n",
      "Epoch 23/60\n",
      "20/20 [==============================] - 0s 916us/step - loss: 0.6594 - accuracy: 0.5769\n",
      "Epoch 24/60\n",
      "20/20 [==============================] - 0s 912us/step - loss: 0.6645 - accuracy: 0.6026\n",
      "Epoch 25/60\n",
      "20/20 [==============================] - 0s 920us/step - loss: 0.6754 - accuracy: 0.5897\n",
      "Epoch 26/60\n",
      "20/20 [==============================] - 0s 903us/step - loss: 0.6827 - accuracy: 0.6026\n",
      "Epoch 27/60\n",
      "20/20 [==============================] - 0s 877us/step - loss: 0.6799 - accuracy: 0.5641\n",
      "Epoch 28/60\n",
      "20/20 [==============================] - 0s 928us/step - loss: 0.6818 - accuracy: 0.5705\n",
      "Epoch 29/60\n",
      "20/20 [==============================] - 0s 976us/step - loss: 0.6767 - accuracy: 0.5513\n",
      "Epoch 30/60\n",
      "20/20 [==============================] - 0s 991us/step - loss: 0.6516 - accuracy: 0.6282\n",
      "Epoch 31/60\n",
      "20/20 [==============================] - 0s 979us/step - loss: 0.6651 - accuracy: 0.5705\n",
      "Epoch 32/60\n",
      "20/20 [==============================] - 0s 967us/step - loss: 0.6597 - accuracy: 0.5769\n",
      "Epoch 33/60\n",
      "20/20 [==============================] - 0s 999us/step - loss: 0.6529 - accuracy: 0.6154\n",
      "Epoch 34/60\n",
      "20/20 [==============================] - 0s 981us/step - loss: 0.6323 - accuracy: 0.7179\n",
      "Epoch 35/60\n",
      "20/20 [==============================] - 0s 840us/step - loss: 0.6316 - accuracy: 0.6410\n",
      "Epoch 36/60\n",
      "20/20 [==============================] - 0s 992us/step - loss: 0.6567 - accuracy: 0.5897\n",
      "Epoch 37/60\n",
      "20/20 [==============================] - 0s 1ms/step - loss: 0.6283 - accuracy: 0.6154\n",
      "Epoch 38/60\n",
      "20/20 [==============================] - 0s 881us/step - loss: 0.6469 - accuracy: 0.6731\n",
      "Epoch 39/60\n",
      "20/20 [==============================] - 0s 1ms/step - loss: 0.6184 - accuracy: 0.7115\n",
      "Epoch 40/60\n",
      "20/20 [==============================] - 0s 977us/step - loss: 0.6238 - accuracy: 0.6731\n",
      "Epoch 41/60\n",
      "20/20 [==============================] - 0s 993us/step - loss: 0.6365 - accuracy: 0.5769\n",
      "Epoch 42/60\n",
      "20/20 [==============================] - 0s 988us/step - loss: 0.5946 - accuracy: 0.6667\n",
      "Epoch 43/60\n",
      "20/20 [==============================] - 0s 974us/step - loss: 0.5995 - accuracy: 0.7244\n",
      "Epoch 44/60\n",
      "20/20 [==============================] - 0s 945us/step - loss: 0.6303 - accuracy: 0.6987\n",
      "Epoch 45/60\n",
      "20/20 [==============================] - 0s 946us/step - loss: 0.5790 - accuracy: 0.7051\n",
      "Epoch 46/60\n",
      "20/20 [==============================] - 0s 983us/step - loss: 0.5694 - accuracy: 0.7500\n",
      "Epoch 47/60\n",
      "20/20 [==============================] - 0s 1ms/step - loss: 0.5668 - accuracy: 0.6795\n",
      "Epoch 48/60\n",
      "20/20 [==============================] - 0s 964us/step - loss: 0.6070 - accuracy: 0.6731\n",
      "Epoch 49/60\n",
      "20/20 [==============================] - 0s 960us/step - loss: 0.5885 - accuracy: 0.7244\n",
      "Epoch 50/60\n",
      "20/20 [==============================] - 0s 920us/step - loss: 0.6097 - accuracy: 0.6731\n",
      "Epoch 51/60\n",
      "20/20 [==============================] - 0s 976us/step - loss: 0.5813 - accuracy: 0.7115\n",
      "Epoch 52/60\n",
      "20/20 [==============================] - 0s 999us/step - loss: 0.5480 - accuracy: 0.7436\n",
      "Epoch 53/60\n",
      "20/20 [==============================] - 0s 1ms/step - loss: 0.5388 - accuracy: 0.7179\n",
      "Epoch 54/60\n",
      "20/20 [==============================] - 0s 1ms/step - loss: 0.5156 - accuracy: 0.8205\n",
      "Epoch 55/60\n",
      "20/20 [==============================] - 0s 948us/step - loss: 0.5090 - accuracy: 0.7564\n",
      "Epoch 56/60\n",
      "20/20 [==============================] - 0s 864us/step - loss: 0.5074 - accuracy: 0.8205\n",
      "Epoch 57/60\n",
      "20/20 [==============================] - 0s 875us/step - loss: 0.5114 - accuracy: 0.7308\n",
      "Epoch 58/60\n",
      "20/20 [==============================] - 0s 957us/step - loss: 0.4831 - accuracy: 0.7821\n",
      "Epoch 59/60\n",
      "20/20 [==============================] - 0s 933us/step - loss: 0.5266 - accuracy: 0.7692\n",
      "Epoch 60/60\n",
      "20/20 [==============================] - 0s 863us/step - loss: 0.4756 - accuracy: 0.7500\n"
     ]
    },
    {
     "data": {
      "text/plain": [
       "<keras.callbacks.History at 0x7ff4a1336490>"
      ]
     },
     "execution_count": 41,
     "metadata": {},
     "output_type": "execute_result"
    }
   ],
   "source": [
    "model_dropout = keras.Sequential([\n",
    "    keras.layers.Dense(60, input_dim=60, activation='relu'),\n",
    "    keras.layers.Dropout(0.5),\n",
    "    keras.layers.Dense(30, activation='relu'),\n",
    "    keras.layers.Dropout(0.6),\n",
    "    keras.layers.Dense(15, activation='relu'),\n",
    "    keras.layers.Dropout(0.5),\n",
    "    keras.layers.Dense(1, activation='sigmoid')\n",
    "])\n",
    "\n",
    "model_dropout.compile(optimizer='adam', loss='binary_crossentropy', metrics=['accuracy'])\n",
    "\n",
    "model_dropout.fit(X_train, y_train, epochs=60, batch_size=8)"
   ]
  },
  {
   "cell_type": "code",
   "execution_count": 43,
   "id": "d87d7b9d",
   "metadata": {},
   "outputs": [
    {
     "name": "stdout",
     "output_type": "stream",
     "text": [
      "2/2 [==============================] - 0s 2ms/step - loss: 0.4395 - accuracy: 0.8269\n"
     ]
    },
    {
     "data": {
      "text/plain": [
       "[0.439541220664978, 0.8269230723381042]"
      ]
     },
     "execution_count": 43,
     "metadata": {},
     "output_type": "execute_result"
    }
   ],
   "source": [
    "model_dropout.evaluate(X_test,y_test)"
   ]
  },
  {
   "cell_type": "code",
   "execution_count": 47,
   "id": "31d745ad",
   "metadata": {},
   "outputs": [
    {
     "name": "stdout",
     "output_type": "stream",
     "text": [
      "2/2 [==============================] - 0s 1ms/step\n",
      "[[0.]\n",
      " [0.]\n",
      " [0.]\n",
      " [1.]\n",
      " [1.]\n",
      " [0.]\n",
      " [1.]\n",
      " [1.]\n",
      " [0.]\n",
      " [1.]]\n"
     ]
    }
   ],
   "source": [
    "y_pred1 = model_dropout.predict(X_test)\n",
    "\n",
    "y_pred1 = np.round(y_pred1)\n",
    "print(y_pred1[:10])"
   ]
  },
  {
   "cell_type": "code",
   "execution_count": 48,
   "id": "2eb6e378",
   "metadata": {},
   "outputs": [
    {
     "name": "stdout",
     "output_type": "stream",
     "text": [
      "              precision    recall  f1-score   support\n",
      "\n",
      "           0       0.85      0.88      0.86        32\n",
      "           1       0.79      0.75      0.77        20\n",
      "\n",
      "    accuracy                           0.83        52\n",
      "   macro avg       0.82      0.81      0.82        52\n",
      "weighted avg       0.83      0.83      0.83        52\n",
      "\n"
     ]
    }
   ],
   "source": [
    "print(classification_report(y_test,y_pred1))"
   ]
  },
  {
   "cell_type": "code",
   "execution_count": null,
   "id": "ebb116b5",
   "metadata": {},
   "outputs": [],
   "source": []
  }
 ],
 "metadata": {
  "kernelspec": {
   "display_name": "Python 3 (ipykernel)",
   "language": "python",
   "name": "python3"
  },
  "language_info": {
   "codemirror_mode": {
    "name": "ipython",
    "version": 3
   },
   "file_extension": ".py",
   "mimetype": "text/x-python",
   "name": "python",
   "nbconvert_exporter": "python",
   "pygments_lexer": "ipython3",
   "version": "3.9.16"
  }
 },
 "nbformat": 4,
 "nbformat_minor": 5
}
